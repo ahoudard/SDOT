{
 "cells": [
  {
   "cell_type": "markdown",
   "metadata": {},
   "source": [
    "# Test of Parameterized c-transform for semi-discrete OT"
   ]
  },
  {
   "cell_type": "markdown",
   "metadata": {},
   "source": [
    "In order to install KeOps, see http://kernel-operations.io/keops/python/installation.html"
   ]
  },
  {
   "cell_type": "markdown",
   "metadata": {},
   "source": [
    "## Imports"
   ]
  },
  {
   "cell_type": "code",
   "execution_count": 1,
   "metadata": {},
   "outputs": [
    {
     "name": "stdout",
     "output_type": "stream",
     "text": [
      "cpu\n"
     ]
    }
   ],
   "source": [
    "import numpy as np\n",
    "import torch\n",
    "from torch import nn, optim\n",
    "from torch.autograd.variable import Variable\n",
    "from torchvision import transforms, datasets\n",
    "\n",
    "from pykeops.torch import LazyTensor\n",
    "\n",
    "import time\n",
    "import matplotlib.pyplot as plt\n",
    "\n",
    "if torch.cuda.is_available():\n",
    "    device = torch.device('cuda')\n",
    "    dtype = torch.cuda.FloatTensor\n",
    "else:\n",
    "    device = torch.device('cpu')\n",
    "    dtype = torch.FloatTensor\n",
    "device = torch.device('cpu')\n",
    "print(device)\n",
    "\n",
    "normalize_cost = True"
   ]
  },
  {
   "cell_type": "markdown",
   "metadata": {},
   "source": [
    "## Functions for Regularized Optimal Transport"
   ]
  },
  {
   "cell_type": "code",
   "execution_count": 2,
   "metadata": {},
   "outputs": [],
   "source": [
    "def lossfunwokeops(x,y,v,nu,ep=0, batch_size=None):\n",
    "    yt = y.transpose(1,0)\n",
    "    sx2 = torch.sum(x**2,1,keepdim=True)\n",
    "    sy2 = torch.sum(yt**2,0,keepdim=True)\n",
    "    normcst = sy2.mean()\n",
    "    \n",
    "    if batch_size is None:\n",
    "        sy2b = sy2\n",
    "        ytb = yt\n",
    "        yb = y\n",
    "        nub = nu\n",
    "        vb = v[None,:]\n",
    "    else:\n",
    "        i = torch.randint(0,y.shape[0],(batch_size,))\n",
    "        sy2b = sy2[:,i]\n",
    "        ytb = yt[:,i]\n",
    "        yb = y[i,:]\n",
    "        nub = nu[i]\n",
    "        vb = v[None,i]\n",
    "    cxy = sx2 +  sy2b - 2*torch.matmul(x,ytb)\n",
    "    if normalize_cost:\n",
    "        cxy = cxy / normcst # cost normalization\n",
    "    rmv = cxy - vb\n",
    "    \n",
    "    if ep>0:\n",
    "        rmve = -rmv/ep + nub[None,:].log()\n",
    "        d = torch.mean(-ep*torch.logsumexp(rmve,1)) + torch.dot(v,nu)        \n",
    "    else:\n",
    "        d = torch.mean(torch.min(rmv,1)[0]) + torch.dot(v,nu)\n",
    "    return -d\n",
    "\n",
    "# Optimize parameters of optimal transport\n",
    "def ot_batch_wokeops(x, y, nu, ep=0, n_iter = 100, lr=1, batch_size=None, print_loss=False, compute_total_loss=False):\n",
    "    v = torch.zeros(y.shape[0], requires_grad=True, device=device) # initialize\n",
    "    optimv = torch.optim.ASGD([v], lr=lr, alpha=0.5, t0=1)\n",
    "    losslist = []\n",
    "    for it in range(n_iter):\n",
    "        loss = lossfunwokeops(x,y,v,nu,ep, batch_size=batch_size)\n",
    "        optimv.zero_grad()\n",
    "        loss.backward()\n",
    "        optimv.step()\n",
    "        if compute_total_loss:\n",
    "            loss = lossfunwokeops(x,y,v,nu,ep, batch_size=None)\n",
    "        losslist.append(loss)\n",
    "        if print_loss:\n",
    "            print('iter ', it, ', loss =', loss.item())\n",
    "    vt = optimv.state[v][\"ax\"] \n",
    "    return vt, losslist\n"
   ]
  },
  {
   "cell_type": "code",
   "execution_count": 3,
   "metadata": {},
   "outputs": [],
   "source": [
    "# Sinkhorn Version\n",
    "\n",
    "def sinkhorn_iter(r,v,mu,nu,ep):\n",
    "    vp = v[None,:]\n",
    "    lu = (vp-r)/ep\n",
    "    rmve = lu + nu[None,:].log()\n",
    "    u = -ep*torch.logsumexp(rmve,1)      \n",
    "    up = u[:,None]\n",
    "    lv = (up-r)/ep\n",
    "    rmve = lv + mu[:,None].log()\n",
    "    v = -ep*torch.logsumexp(rmve,0)\n",
    "    return v\n",
    "\n",
    "# simple version\n",
    "def sinkhorn_iter_simple(r,v,mu,nu,ep):\n",
    "    u = -ep*torch.log(torch.sum(nu[None,:]*torch.exp((v[None,:]-r)/ep),1))\n",
    "    v = -ep*torch.log(torch.sum(mu[:,None]*torch.exp((u[:,None]-r)/ep),0))\n",
    "    return v\n",
    "\n",
    "\n",
    "def sinkhorn(x, y, nu, ep=0, n_iter = 100, print_loss=False):\n",
    "    mu = torch.ones(x.shape[0])/x.shape[0]\n",
    "    yt = y.transpose(1,0)\n",
    "    sx2 = torch.sum(x**2,1,keepdim=True)\n",
    "    sy2 = torch.sum(yt**2,0,keepdim=True)\n",
    "    r = sx2 + sy2 - 2*torch.matmul(x,yt)\n",
    "    normcst = sy2.mean() # divide by the variance\n",
    "    if normalize_cost:\n",
    "        r = r / normcst # cost normalization\n",
    "    v = torch.zeros(y.shape[0], device=device) # initialize\n",
    "    losslist = []\n",
    "    for it in range(n_iter):\n",
    "        v = sinkhorn_iter(r,v,mu,nu,ep)\n",
    "        #v = sinkhorn_iter_simple(r,v,mu,nu,ep)\n",
    "        loss = lossfunwokeops(x,y,v,nu,ep, batch_size=None)\n",
    "        losslist.append(loss)\n",
    "        if print_loss:\n",
    "            print('iter ', it, ', loss =', loss.item())\n",
    "    return v, losslist\n"
   ]
  },
  {
   "cell_type": "markdown",
   "metadata": {},
   "source": [
    "## Functions for SDOTNN"
   ]
  },
  {
   "cell_type": "code",
   "execution_count": 4,
   "metadata": {},
   "outputs": [],
   "source": [
    "# Multi-Linear Perceptron Network\n",
    "class Discriminator_MLP(torch.nn.Module): \n",
    "    \"\"\"\n",
    "    A three hidden-layer classification neural network\n",
    "    \"\"\"\n",
    "    def __init__(self, n_in=784):\n",
    "        super(Discriminator_MLP, self).__init__()\n",
    "        n_out = 1\n",
    "        \n",
    "        self.hidden0 = nn.Sequential(\n",
    "            nn.Linear(n_in, 512),\n",
    "            nn.ReLU(True)\n",
    "        )\n",
    "        self.hidden1 = nn.Sequential(            \n",
    "            nn.Linear(512, 256),\n",
    "            nn.ReLU(True)\n",
    "        ).to(device)\n",
    "        self.hidden2 = nn.Sequential(\n",
    "            nn.Linear(256, 128),\n",
    "            nn.ReLU(True)\n",
    "        ).to(device)\n",
    "        \n",
    "        self.out = nn.Sequential(\n",
    "            nn.Linear(128, n_out),\n",
    "            #nn.Tanh()\n",
    "        ).to(device)\n",
    "\n",
    "    def forward(self, x):\n",
    "        x = self.hidden0(x)\n",
    "        x = self.hidden1(x)\n",
    "        x = self.hidden2(x)\n",
    "        x = self.out(x)\n",
    "        return x\n",
    "\n",
    "# number of parameters\n",
    "def number_parameters(net):\n",
    "    n = 0\n",
    "    for name, param in net.named_parameters():\n",
    "        t = param.numel()\n",
    "        n += t\n",
    "        print(name, t)\n",
    "    return n    \n",
    "\n",
    "\n",
    "# entropic semi-discrete optimal transport with dual variable parameterized as a neural network\n",
    "class entropic_SDOTNN(nn.Module):    \n",
    "    def __init__(self, y, lambd, device):\n",
    "        super(entropic_SDOTNN, self).__init__()\n",
    "        # y is a tensor [N x d]\n",
    "        self.N = y.shape[0]\n",
    "        self.d = y.shape[1]\n",
    "        self.y = y.requires_grad_(False)\n",
    "        self.yt = y.transpose(1,0).requires_grad_(False).to(device)\n",
    "        self.sy2 = torch.sum(self.yt**2,0,keepdim=True)\n",
    "        self.psi = Discriminator_MLP(n_in=self.d).to(device) # MLP\n",
    "        #self.psi = Discriminator_convnet(1, 32).to(device) # conv net \n",
    "        # self.psi.apply(weights_init)\n",
    "        self.lambd = lambd\n",
    "        self.normalization = self.sy2.mean() # divide by the variance\n",
    "        print(\"valuenormalize=\",self.normalization)\n",
    "        #self.normalization = 0.3081 * self.yt.size(0) # Juju : use MNIST standard-deviation if NORMALIZE_MNIST=False\n",
    "        #self.normalization = self.yt.size(0) # Antoine divides by the dimension\n",
    "\n",
    "    def forward(self, input, batch_size=None):\n",
    "        if batch_size is None:\n",
    "            sy2b = self.sy2\n",
    "            ytb = self.yt\n",
    "            yb = self.y\n",
    "            nub = nu\n",
    "        else:\n",
    "            i = torch.randint(0,self.N,(batch_size,))\n",
    "            sy2b = self.sy2[:,i]\n",
    "            ytb = self.yt[:,i]\n",
    "            yb = self.y[i,:]  \n",
    "            nub = nu[i]  \n",
    "        cxy = torch.sum(input**2,1,keepdim=True) +  sy2b - 2*torch.matmul(input,ytb)\n",
    "        #cxy = 10*cxy\n",
    "        if normalize_cost:\n",
    "            cxy = cxy / self.normalization # cost normalization\n",
    "        psiyb = self.psi(yb).transpose(1,0) # MLP\n",
    "        # psiyb = self.psi(self.yt.transpose(1,0).view(self.yt.shape[1], 1, 28, 28)) # conv net\n",
    "        if self.lambd > 0:\n",
    "            output = -self.lambd*torch.logsumexp((psiyb-cxy)/self.lambd + nub[None,:].log(),1) + torch.mean(psiyb)\n",
    "        else:\n",
    "            output = torch.min(cxy - psiyb,1)[0] + torch.mean(psiyb)\n",
    "        return output\n",
    "    \n",
    "def train_discriminator(discriminator, optimizer, input_data, METHOD):\n",
    "    optimizer.zero_grad()    \n",
    "    semidiscrete_OT_dual = discriminator(input_data)  # compute the semi discrete OT loss\n",
    "    loss = -torch.mean(semidiscrete_OT_dual) # minus because it is a maximization problem    \n",
    "    loss.backward() \n",
    "    optimizer.step()    \n",
    "    return loss\n",
    "\n",
    "def otnn_batch(x, y, nu, ep=0, n_iter = 100, lr=1, alpha=0.8, batch_size=None, print_loss=False, compute_total_loss=False):\n",
    "    discriminator = entropic_SDOTNN(y, ep, device)\n",
    "    #print(discriminator)\n",
    "    print(\"Nb of parameters for discriminator =  \", number_parameters(discriminator))\n",
    "    #print(discriminator.parameters())\n",
    "    \n",
    "    # d_optimizer = optim.ASGD(discriminator.parameters(), lr=lr, alpha=alpha, t0=1)\n",
    "    d_optimizer = optim.Adam(discriminator.parameters(), lr=lr, betas=(0.9, 0.999),)\n",
    "    losslist = []\n",
    "    for it in range(n_iter):\n",
    "        d_optimizer.zero_grad()\n",
    "        semidiscrete_OT_dual = discriminator(x, batch_size=batch_size)  # compute the semi discrete OT loss\n",
    "        loss = -torch.mean(semidiscrete_OT_dual) # minus because it is a maximization problem    \n",
    "        #print(loss.grad)\n",
    "        loss.backward()\n",
    "        d_optimizer.step()\n",
    "        if compute_total_loss:\n",
    "            semidiscrete_OT_dual = discriminator(x)  # compute the semi discrete OT loss\n",
    "            loss = -torch.mean(semidiscrete_OT_dual) # minus because it is a maximization problem    \n",
    "        losslist.append(loss)\n",
    "        if print_loss:\n",
    "            print('iter ', it, ', loss =', loss.item())\n",
    "    \n",
    "    vt = discriminator.psi(y).squeeze(1).detach()\n",
    "    return vt, losslist\n"
   ]
  },
  {
   "cell_type": "markdown",
   "metadata": {},
   "source": [
    "## A simple test"
   ]
  },
  {
   "cell_type": "code",
   "execution_count": 53,
   "metadata": {},
   "outputs": [
    {
     "name": "stdout",
     "output_type": "stream",
     "text": [
      "0.001\n",
      "cpu\n"
     ]
    }
   ],
   "source": [
    "N = 1000   # source points\n",
    "J = 100  # target points\n",
    "d = 27    # dimensionality of the problem\n",
    "x = torch.randn(N, d, device=device)\n",
    "y = torch.randn(J, d, device=device)\n",
    "nu = torch.ones(J, device=device)/J\n",
    "\n",
    "lmb = '0.001'\n",
    "ep = float(lmb)\n",
    "niter_psi = 1000\n",
    "print(ep)\n",
    "\n",
    "print(device)"
   ]
  },
  {
   "cell_type": "code",
   "execution_count": 56,
   "metadata": {},
   "outputs": [
    {
     "name": "stdout",
     "output_type": "stream",
     "text": [
      "valuenormalize= tensor(27.4584)\n",
      "psi.hidden0.0.weight 13824\n",
      "psi.hidden0.0.bias 512\n",
      "psi.hidden1.0.weight 131072\n",
      "psi.hidden1.0.bias 256\n",
      "psi.hidden2.0.weight 32768\n",
      "psi.hidden2.0.bias 128\n",
      "psi.out.0.weight 128\n",
      "psi.out.0.bias 1\n",
      "Nb of parameters for discriminator =   178689\n"
     ]
    },
    {
     "data": {
      "image/png": "[encoded data removed]",
      "text/plain": [
       "<Figure size 432x288 with 1 Axes>"
      ]
     },
     "metadata": {
      "needs_background": "light"
     },
     "output_type": "display_data"
    }
   ],
   "source": [
    "# NB: the setting of the learning rate is crucial in ot_batch_wokeops!!!\n",
    "# In contrast, with otnn_batch, the value lr=0.5 seems quasi optimal\n",
    "# In otnn_batch, one can attain a slightly better value by using ADAM (lr=0.001), but still not as good as ASGD.\n",
    "# It seems that ADAM gets stuck in local minima.\n",
    "\n",
    "t0 = time.time()\n",
    "(v1,loss1) = ot_batch_wokeops(x,y,nu,ep,n_iter=niter_psi, lr=10, batch_size=None, compute_total_loss=True, print_loss=False)\n",
    "#(v1,loss1) = ot_batch_wokeops(x,y,nu,ep,n_iter=niter_psi, lr=1, batch_size=40, print_loss=False, compute_total_loss=True)\n",
    "elapsed_time = time.time()-t0 \n",
    "\n",
    "# print(\"SDOT : \", elapsed_time, ' seconds')\n",
    "# print(\"Final loss = \",lossfunwokeops(x,y,v1,nu,ep))\n",
    "# plt.plot(loss1)\n",
    "# plt.show()\n",
    "\n",
    "t0 = time.time()\n",
    "(v2,loss2) = otnn_batch(x,y,nu,ep,lr=0.001, alpha=0.8, n_iter=niter_psi, batch_size=None, compute_total_loss=True, print_loss=False)\n",
    "elapsed_time = time.time()-t0 \n",
    "\n",
    "# print(\"SDOTNN : \", elapsed_time, ' seconds')\n",
    "# print(\"Final loss = \",lossfunwokeops(x,y,v2,nu,ep))\n",
    "# plt.plot(loss2)\n",
    "# plt.show()\n",
    "\n",
    "\n",
    "# Sinkhorn\n",
    "t0 = time.time()\n",
    "(v3,loss3) = sinkhorn(x, y, nu, ep, n_iter = niter_psi, print_loss=False)\n",
    "elapsed_time = time.time()-t0 \n",
    "\n",
    "# print(\"Sinkhorn : \", elapsed_time, ' seconds')\n",
    "# print(\"Final loss = \",lossfunwokeops(x,y,v3,nu,ep))\n",
    "# print(\"v3=\",v3)\n",
    "# plt.plot(loss3)\n",
    "# plt.show()\n",
    "\n",
    "indmax = 100\n",
    "plt.plot(loss1[1:indmax],label='SDOT')\n",
    "plt.plot(loss2[1:indmax],label='SDOTNN')\n",
    "plt.plot(loss3[1:indmax],label='Sinkhorn')\n",
    "plt.legend(loc=4,fontsize=6)\n",
    "\n",
    "plt.show()\n",
    "\n",
    "#print(loss3[0:10],'\\n')\n",
    "#print(v1-v1.mean(),'\\n')\n",
    "#print(v2-v2.mean(),'\\n')"
   ]
  },
  {
   "cell_type": "markdown",
   "metadata": {},
   "source": [
    "## Load MNIST"
   ]
  },
  {
   "cell_type": "code",
   "execution_count": 5,
   "metadata": {},
   "outputs": [
    {
     "name": "stdout",
     "output_type": "stream",
     "text": [
      "image shape :  torch.Size([28, 28])\n"
     ]
    },
    {
     "data": {
      "image/png": "[encoded data removed]",
      "text/plain": [
       "<Figure size 432x288 with 6 Axes>"
      ]
     },
     "metadata": {},
     "output_type": "display_data"
    }
   ],
   "source": [
    "USE_FullDataset = True\n",
    "batch_size_train = 60000 # max is 60k\n",
    "\n",
    "params = {'batch_size': batch_size_train,\n",
    "          'shuffle': True,\n",
    "          'num_workers': 1}\n",
    "\n",
    "\n",
    "NORMALIZE_MNIST = False # False (best) : range is in [0,1] -> use Sigmoid() for the generator \n",
    "# if True : mean=0, and std = 1 -> use Tanh() for the generator\n",
    "\n",
    "import torchvision\n",
    "if NORMALIZE_MNIST:\n",
    "    train_loader = torch.utils.data.DataLoader(\n",
    "      torchvision.datasets.MNIST('./dataset', train=True, download=True,\n",
    "                                 transform=torchvision.transforms.Compose([\n",
    "                                   torchvision.transforms.ToTensor(),\n",
    "                                   torchvision.transforms.Normalize((0.1307,), (0.3081,)) # s.t. avg is 0 and std is 1\n",
    "                                 ])),\n",
    "      #batch_size=batch_size_train, shuffle=True)\n",
    "        **params)\n",
    "else :\n",
    "    train_loader = torch.utils.data.DataLoader(\n",
    "      torchvision.datasets.MNIST('./dataset', train=True, download=True,\n",
    "                                 transform=torchvision.transforms.Compose([\n",
    "                                   torchvision.transforms.ToTensor()\n",
    "                                 ])),\n",
    "      #batch_size=batch_size_train, shuffle=True)\n",
    "        **params)\n",
    "\n",
    "\n",
    "examples = enumerate(train_loader)\n",
    "batch_idx, (train_data, train_targets) = next(examples)\n",
    "print(\"image shape : \", train_data[1][0].shape)\n",
    "\n",
    "fig = plt.figure()\n",
    "for i in range(6):\n",
    "    plt.subplot(2,3,i+1)\n",
    "    plt.tight_layout()\n",
    "    plt.imshow(train_data[i][0], cmap='gray', interpolation='none')\n",
    "    plt.title(\"Ground Truth: {}\".format(train_targets[i]))\n",
    "    plt.xticks([])\n",
    "    plt.yticks([])\n",
    "\n",
    "        \n",
    "\n",
    "def images_to_vectors(images):\n",
    "    return images.view(images.size(0), 784).to(device)\n",
    "\n",
    "def vectors_to_images(vectors):\n",
    "    return vectors.view(vectors.size(0), 1, 28, 28)      \n",
    "\n",
    "def noise(size):\n",
    "    # n = torch.randn(size, 100, 1, 1, device=device)\n",
    "    n = Variable(-1+2*torch.rand((size, 100), device=device))\n",
    "    return n\n",
    "\n",
    "def batch_imshow(vector_batch):\n",
    "  imgs = vectors_to_images(vector_batch).clone().detach()\n",
    "  fig, axs = plt.subplots(1, 10)\n",
    "  for i in range(10):\n",
    "    axs[i].imshow(imgs[i,0,:,:], cmap='gray', interpolation='none')\n",
    "    axs[i].axis('off')\n",
    "  plt.show()\n",
    "  return\n",
    "\n"
   ]
  },
  {
   "cell_type": "markdown",
   "metadata": {},
   "source": [
    "## Define CNN generator"
   ]
  },
  {
   "cell_type": "code",
   "execution_count": 6,
   "metadata": {},
   "outputs": [],
   "source": [
    "class Generator_DCGAN_MNIST(nn.Module):\n",
    "    def __init__(self, nc=1, nz=100, ngf=64, NORMALIZE_MNIST=False, ngpu=1):\n",
    "        super(Generator_DCGAN_MNIST, self).__init__()\n",
    "        self.ngpu = ngpu\n",
    "        self.main = nn.Sequential(\n",
    "            # input is Z, going into a convolution\n",
    "            nn.ConvTranspose2d(nz, ngf*4, 3, 2, 0, bias=False),\n",
    "            nn.BatchNorm2d(ngf*4),\n",
    "            nn.ReLU(True),\n",
    "            # state size. (ngf*4) x 3 x 3\n",
    "            nn.ConvTranspose2d(ngf*4, ngf*2, 3, 2, 0, bias=False),\n",
    "            nn.BatchNorm2d(ngf*2),\n",
    "            nn.ReLU(True),\n",
    "            # state size. (ngf*2) x 8 x 8\n",
    "            nn.ConvTranspose2d(ngf*2, ngf, 3, 2, 0, bias=False),\n",
    "            nn.BatchNorm2d(ngf),\n",
    "            nn.ReLU(True),\n",
    "            # state size. (ngf) x 16 x 16\n",
    "            nn.ConvTranspose2d(ngf, nc, 3, 2, 2, 1, bias=False),\n",
    "            # state size. (nc) x 28 x 28\n",
    "        )\n",
    "\n",
    "        if NORMALIZE_MNIST:\n",
    "            self.postp = nn.Tanh()\n",
    "        else :\n",
    "            self.postp = nn.Sigmoid()\n",
    "        \n",
    "    def forward(self, input):\n",
    "        output = self.main(input.view(input.size(0),input.size(1),1,1))\n",
    "        output = self.postp(output)\n",
    "        return output"
   ]
  },
  {
   "cell_type": "markdown",
   "metadata": {},
   "source": [
    "# ASGD with varying batches"
   ]
  },
  {
   "cell_type": "code",
   "execution_count": 7,
   "metadata": {},
   "outputs": [
    {
     "name": "stdout",
     "output_type": "stream",
     "text": [
      "torch.Size([200, 784])\n",
      "torch.Size([60000, 784])\n"
     ]
    }
   ],
   "source": [
    "    \n",
    "batch_size_fake = 200\n",
    "\n",
    "# for reproducibility\n",
    "import random\n",
    "random.seed(2020)\n",
    "torch.manual_seed(2020)\n",
    "\n",
    "generator = Generator_DCGAN_MNIST().to(device)\n",
    "x = generator(noise(batch_size_fake)).view(batch_size_fake,28*28).detach() \n",
    "\n",
    "y = images_to_vectors(train_data)\n",
    "print(x.shape)\n",
    "print(y.shape)\n",
    "ny = y.shape[0]\n",
    "nu = torch.ones(ny)/ny\n",
    "niter_psi = 100"
   ]
  },
  {
   "cell_type": "code",
   "execution_count": 20,
   "metadata": {},
   "outputs": [
    {
     "name": "stdout",
     "output_type": "stream",
     "text": [
      "0.1\n"
     ]
    }
   ],
   "source": [
    "lmb = '0.100'\n",
    "ep = float(lmb)\n",
    "niter_psi = 100\n",
    "print(ep)"
   ]
  },
  {
   "cell_type": "code",
   "execution_count": 21,
   "metadata": {},
   "outputs": [],
   "source": [
    "# for reproducibility\n",
    "import random\n",
    "random.seed(2020)\n",
    "torch.manual_seed(2020)\n",
    "\n",
    "lr = 5\n",
    "v = torch.zeros(y.shape[0], requires_grad=True, device=device) # initialize\n",
    "optimv = torch.optim.ASGD([v], lr=lr, alpha=0.5, t0=1)\n",
    "losslist = []\n",
    "for it in range(niter_psi):\n",
    "    x = generator(noise(batch_size_fake)).view(batch_size_fake,28*28).detach() \n",
    "    loss = lossfunwokeops(x,y,v,nu,ep, batch_size=None)\n",
    "    optimv.zero_grad()\n",
    "    loss.backward()\n",
    "    optimv.step()\n",
    "    losslist.append(loss)\n",
    "v1 = optimv.state[v][\"ax\"] \n",
    "loss1 = losslist"
   ]
  },
  {
   "cell_type": "code",
   "execution_count": 22,
   "metadata": {},
   "outputs": [
    {
     "name": "stdout",
     "output_type": "stream",
     "text": [
      "valuenormalize= tensor(87.8100)\n",
      "psi.hidden0.0.weight 401408\n",
      "psi.hidden0.0.bias 512\n",
      "psi.hidden1.0.weight 131072\n",
      "psi.hidden1.0.bias 256\n",
      "psi.hidden2.0.weight 32768\n",
      "psi.hidden2.0.bias 128\n",
      "psi.out.0.weight 128\n",
      "psi.out.0.bias 1\n",
      "Nb of parameters for discriminator =   566273\n"
     ]
    }
   ],
   "source": [
    "# for reproducibility\n",
    "import random\n",
    "random.seed(2020)\n",
    "torch.manual_seed(2020)\n",
    "\n",
    "discriminator = entropic_SDOTNN(y, lambd=ep, device=device)\n",
    "print(\"Nb of parameters for discriminator =  \", number_parameters(discriminator))\n",
    "\n",
    "d_optimizer = optim.ASGD(discriminator.parameters(), lr=0.1, alpha=0.8, t0=1)\n",
    "#d_optimizer = optim.Adam(discriminator.parameters(), lr=0.001)\n",
    "\n",
    "# other optimizers that lead bad results:\n",
    "# d_optimizer = torch.optim.RMSprop(discriminator.parameters(), lr=0.01, alpha=0.99)\n",
    "# d_optimizer = torch.optim.Adagrad(discriminator.parameters(), lr=0.001, lr_decay=0)                    \n",
    "    \n",
    "losslist = []\n",
    "for it in range(niter_psi):\n",
    "    d_optimizer.zero_grad()\n",
    "    x = generator(noise(batch_size_fake)).view(batch_size_fake,28*28).detach() \n",
    "    semidiscrete_OT_dual = discriminator(x, batch_size=None)  # compute the semi discrete OT loss\n",
    "    loss = -torch.mean(semidiscrete_OT_dual) # minus because it is a maximization problem    \n",
    "    loss.backward()\n",
    "    d_optimizer.step()\n",
    "    losslist.append(loss)\n",
    "\n",
    "v2 = discriminator.psi(y).squeeze(1).detach()\n",
    "loss2 = losslist"
   ]
  },
  {
   "cell_type": "code",
   "execution_count": 23,
   "metadata": {},
   "outputs": [],
   "source": [
    "# for reproducibility\n",
    "import random\n",
    "random.seed(2020)\n",
    "torch.manual_seed(2020)\n",
    "\n",
    "v = torch.zeros(y.shape[0], requires_grad=True, device=device) # initialize\n",
    "optimv = torch.optim.Adam([v], lr=0.001)\n",
    "losslist = []\n",
    "for it in range(niter_psi):\n",
    "    x = generator(noise(batch_size_fake)).view(batch_size_fake,28*28).detach() \n",
    "    loss = lossfunwokeops(x,y,v,nu,ep, batch_size=None)\n",
    "    optimv.zero_grad()\n",
    "    loss.backward()\n",
    "    optimv.step()\n",
    "    losslist.append(loss)\n",
    "    \n",
    "v3 = optimv.state[v]\n",
    "loss3 = losslist"
   ]
  },
  {
   "cell_type": "code",
   "execution_count": 24,
   "metadata": {},
   "outputs": [
    {
     "name": "stdout",
     "output_type": "stream",
     "text": [
      "valuenormalize= tensor(87.8100)\n",
      "psi.hidden0.0.weight 401408\n",
      "psi.hidden0.0.bias 512\n",
      "psi.hidden1.0.weight 131072\n",
      "psi.hidden1.0.bias 256\n",
      "psi.hidden2.0.weight 32768\n",
      "psi.hidden2.0.bias 128\n",
      "psi.out.0.weight 128\n",
      "psi.out.0.bias 1\n",
      "Nb of parameters for discriminator =   566273\n"
     ]
    }
   ],
   "source": [
    "# for reproducibility\n",
    "import random\n",
    "random.seed(2020)\n",
    "torch.manual_seed(2020)\n",
    "\n",
    "discriminator = entropic_SDOTNN(y, lambd=ep, device=device)\n",
    "print(\"Nb of parameters for discriminator =  \", number_parameters(discriminator))\n",
    "\n",
    "d_optimizer = optim.Adam(discriminator.parameters(), lr=0.001)\n",
    "\n",
    "losslist = []\n",
    "for it in range(niter_psi):\n",
    "    d_optimizer.zero_grad()\n",
    "    x = generator(noise(batch_size_fake)).view(batch_size_fake,28*28).detach() \n",
    "    semidiscrete_OT_dual = discriminator(x, batch_size=None)  # compute the semi discrete OT loss\n",
    "    loss = -torch.mean(semidiscrete_OT_dual) # minus because it is a maximization problem    \n",
    "    loss.backward()\n",
    "    d_optimizer.step()\n",
    "    losslist.append(loss)\n",
    "\n",
    "v4 = discriminator.psi(y).squeeze(1).detach()\n",
    "loss4 = losslist"
   ]
  },
  {
   "cell_type": "markdown",
   "metadata": {},
   "source": [
    "###  Plot curves"
   ]
  },
  {
   "cell_type": "code",
   "execution_count": 25,
   "metadata": {},
   "outputs": [
    {
     "data": {
      "image/png": "[encoded data removed]",
      "text/plain": [
       "<Figure size 432x288 with 1 Axes>"
      ]
     },
     "metadata": {
      "needs_background": "light"
     },
     "output_type": "display_data"
    }
   ],
   "source": [
    "\n",
    "CONV_GEN = 'DCGAN'  # mistake: DCGAN actually!\n",
    "batch_size = 'None'\n",
    "\n",
    "fol = 'plots/'\n",
    "\n",
    "indmax = 100\n",
    "plt.plot(loss1[0:indmax],label='SDOT-ASGD')\n",
    "plt.plot(loss3[0:indmax],':.',label='SDOT-Adam')\n",
    "plt.plot(loss2[0:indmax],'--',label='SDOTNN-ASGD')\n",
    "plt.plot(loss4[0:indmax],':',label='SDOTNN-Adam')\n",
    "plt.legend(loc=1,fontsize=10)\n",
    "plt.savefig(fol+'mnist_loss_dual_lmb='+lmb+'_'+CONV_GEN+'_batch'+batch_size+'.pdf')\n",
    "plt.show()"
   ]
  },
  {
   "cell_type": "markdown",
   "metadata": {},
   "source": [
    "## Test of SDOTNN with MNIST data AND fixed batch!!"
   ]
  },
  {
   "cell_type": "code",
   "execution_count": 7,
   "metadata": {},
   "outputs": [
    {
     "name": "stdout",
     "output_type": "stream",
     "text": [
      "torch.Size([200, 784])\n",
      "torch.Size([60000, 784])\n",
      "0.001\n"
     ]
    }
   ],
   "source": [
    "    \n",
    "batch_size_fake = 200\n",
    "\n",
    "# for reproducibility\n",
    "import random\n",
    "random.seed(2020)\n",
    "torch.manual_seed(2020)\n",
    "\n",
    "# load trained generator :\n",
    "#from generator import *\n",
    "#generator = Generator_conv(1,100,32,NORMALIZE_MNIST=True).to(device)\n",
    "#generator.load_state_dict(torch.load('./results_old/generator_SDOT_lmb=0.01_lrpsi=5.0_ConvNet_Full-MNIST__24-Jan-2022-20:23.pth', map_location=torch.device(device)))\n",
    "#x = generator(noise(batch_size_fake)).view(batch_size_fake,28*28).detach() \n",
    "\n",
    "generator = Generator_DCGAN_MNIST().to(device)\n",
    "x = generator(noise(batch_size_fake)).view(batch_size_fake,28*28).detach() \n",
    "\n",
    "y = images_to_vectors(train_data)\n",
    "print(x.shape)\n",
    "print(y.shape)\n",
    "ny = y.shape[0]\n",
    "nu = torch.ones(ny)/ny\n",
    "niter_psi = 100\n",
    "\n",
    "lmb = '0.001'\n",
    "ep = float(lmb)\n",
    "niter_psi = 100\n",
    "print(ep)"
   ]
  },
  {
   "cell_type": "code",
   "execution_count": 8,
   "metadata": {},
   "outputs": [
    {
     "name": "stdout",
     "output_type": "stream",
     "text": [
      "SDOT :  40.787665128707886  seconds\n",
      "Final loss =  tensor(-2.3463)\n",
      "valuenormalize= tensor(87.8100)\n",
      "psi.hidden0.0.weight 401408\n",
      "psi.hidden0.0.bias 512\n",
      "psi.hidden1.0.weight 131072\n",
      "psi.hidden1.0.bias 256\n",
      "psi.hidden2.0.weight 32768\n",
      "psi.hidden2.0.bias 128\n",
      "psi.out.0.weight 128\n",
      "psi.out.0.bias 1\n",
      "Nb of parameters for discriminator =   566273\n",
      "SDOTNN :  101.7667543888092  seconds\n",
      "Final loss =  tensor(-2.3338)\n",
      "v2= tensor([0.1980, 0.1594, 0.1577,  ..., 0.2160, 0.1639, 0.1657])\n",
      "Sinkhorn :  50.858219146728516  seconds\n",
      "Final loss =  tensor(-2.3824)\n"
     ]
    }
   ],
   "source": [
    "# SDOT\n",
    "t0 = time.time()\n",
    "(v1,loss1) = ot_batch_wokeops(x,y,nu,ep,lr=5,n_iter=niter_psi, print_loss=False)\n",
    "#(v1,loss1) = ot_batch_wokeops(x,y,nu,ep,lr=5,n_iter=niter_psi, print_loss=False)\n",
    "elapsed_time = time.time()-t0 \n",
    "\n",
    "print(\"SDOT : \", elapsed_time, ' seconds')\n",
    "print(\"Final loss = \",lossfunwokeops(x,y,v1,nu,ep))\n",
    "# print(\"v1=\",v1)\n",
    "# plt.plot(loss1)\n",
    "# plt.show()\n",
    "\n",
    "# SDOTNN\n",
    "t0 = time.time()\n",
    "(v2,loss2) = otnn_batch(x,y,nu,ep,lr=0.1, alpha=0.8, n_iter=niter_psi, print_loss=False)\n",
    "#(v2,loss2) = otnn_batch(x,y,nu,ep,lr=0.1, alpha=0.8, n_iter=niter_psi, batch_size=None, compute_total_loss=False, print_loss=False)\n",
    "elapsed_time = time.time()-t0 \n",
    "\n",
    "print(\"SDOTNN : \", elapsed_time, ' seconds')\n",
    "print(\"Final loss = \",lossfunwokeops(x,y,v2,nu,ep))\n",
    "print(\"v2=\",v2)\n",
    "# plt.plot(loss2)\n",
    "# plt.show()\n",
    "\n",
    "# Sinkhorn\n",
    "t0 = time.time()\n",
    "(v3,loss3) = sinkhorn(x, y, nu, ep, n_iter = 100, print_loss=False)\n",
    "elapsed_time = time.time()-t0 \n",
    "\n",
    "print(\"Sinkhorn : \", elapsed_time, ' seconds')\n",
    "print(\"Final loss = \",lossfunwokeops(x,y,v3,nu,ep))\n",
    "#print(\"v3=\",v3)\n",
    "# plt.plot(loss3)\n",
    "# plt.show()"
   ]
  },
  {
   "cell_type": "markdown",
   "metadata": {},
   "source": [
    "###  Plot curves"
   ]
  },
  {
   "cell_type": "code",
   "execution_count": 9,
   "metadata": {},
   "outputs": [
    {
     "data": {
      "image/png": "[encoded data removed]",
      "text/plain": [
       "<Figure size 432x288 with 1 Axes>"
      ]
     },
     "metadata": {
      "needs_background": "light"
     },
     "output_type": "display_data"
    }
   ],
   "source": [
    "\n",
    "CONV_GEN = 'DCGAN'\n",
    "batch_size = 'None'\n",
    "\n",
    "fol = 'plots/'\n",
    "\n",
    "indmax = 100\n",
    "plt.plot(loss1[0:indmax],label='SDOT')\n",
    "plt.plot(loss2[0:indmax],label='SDOTNN')\n",
    "plt.plot(loss3[0:indmax],label='Sinkhorn')\n",
    "plt.legend(loc=4,fontsize=6)\n",
    "#plt.savefig(fol+'mnist_loss_dual_fixedbatch_lmb='+lmb+'_'+CONV_GEN+'_batch'+batch_size+'.pdf')\n",
    "plt.show()"
   ]
  },
  {
   "cell_type": "markdown",
   "metadata": {},
   "source": [
    "### Plot dual variable to check"
   ]
  },
  {
   "cell_type": "code",
   "execution_count": null,
   "metadata": {
    "scrolled": true
   },
   "outputs": [],
   "source": [
    "v1np = np.array(v3.detach())*1000\n",
    "print(v1np - v1np.mean())\n",
    "plt.plot(v1np)"
   ]
  }
 ],
 "metadata": {
  "kernelspec": {
   "display_name": "Python 3",
   "language": "python",
   "name": "python3"
  },
  "language_info": {
   "codemirror_mode": {
    "name": "ipython",
    "version": 3
   },
   "file_extension": ".py",
   "mimetype": "text/x-python",
   "name": "python",
   "nbconvert_exporter": "python",
   "pygments_lexer": "ipython3",
   "version": "3.8.3"
  }
 },
 "nbformat": 4,
 "nbformat_minor": 2
}
